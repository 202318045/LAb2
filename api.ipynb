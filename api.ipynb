{
 "cells": [
  {
   "cell_type": "code",
   "execution_count": 4,
   "metadata": {},
   "outputs": [],
   "source": [
    "import requests\n",
    "from bs4 import BeautifulSoup\n",
    "import pandas as pd"
   ]
  },
  {
   "cell_type": "code",
   "execution_count": 5,
   "metadata": {},
   "outputs": [
    {
     "name": "stdout",
     "output_type": "stream",
     "text": [
      "{'requestSuccessful': True, 'requestInfo': {'domain': 'de', 'asin': 'B07GR5MSKD'}, 'responseErrors': None, 'responseData': {'asin': 'B07GR5MSKD', 'soldByAmazonPrice': -0.01, 'buyBoxPrice': 21.97, 'buyBoxSellerId': 'A31ZLMAM3XB1Y6', 'buyBoxIsFba': True, 'buyBoxIsAmazon': False, 'buyBoxIsPrime': True, 'buyBoxLocalAvailabilityMessage': 'Auf Lager', 'buyBoxMinOrderQuantity': 1, 'buyBoxMaxOrderQuantity': 999, 'priceCoupon': None, 'title': '720°DGREE Trinkflasche 1l “uberBottle“ softTouch +Früchtebehälter - BPA-Frei - Schlanke Wasserflasche für Sport, Fitness, Fahrrad, Uni, Outdoor - Tritan Sportflasche Leicht, Stoßfest, Wiederverwendbar', 'availabilityAmazon': 'no sold by amazon offer', 'allEanList': ['4251442601379'], 'hasReviews': True}}\n"
     ]
    }
   ],
   "source": [
    "\n",
    "\n",
    "url = \"https://amazon-pricing-and-product-info.p.rapidapi.com/\"\n",
    "querystring = {\"asin\": \"B07GR5MSKD\", \"domain\": \"de\"}\n",
    "\n",
    "headers = {\n",
    "    \"X-RapidAPI-Key\": \"965cecf2fcmshf72f9b0702af72cp1ee13cjsn223ea7ca43d2\",\n",
    "    \"X-RapidAPI-Host\": \"amazon-pricing-and-product-info.p.rapidapi.com\"\n",
    "}\n",
    "\n",
    "response = requests.get(url, headers=headers, params=querystring)\n",
    "data = response.json()\n",
    "print(data)"
   ]
  }
 ],
 "metadata": {
  "kernelspec": {
   "display_name": "Python 3",
   "language": "python",
   "name": "python3"
  },
  "language_info": {
   "codemirror_mode": {
    "name": "ipython",
    "version": 3
   },
   "file_extension": ".py",
   "mimetype": "text/x-python",
   "name": "python",
   "nbconvert_exporter": "python",
   "pygments_lexer": "ipython3",
   "version": "3.12.1"
  }
 },
 "nbformat": 4,
 "nbformat_minor": 2
}
